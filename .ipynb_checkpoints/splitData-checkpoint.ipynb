{
 "cells": [
  {
   "cell_type": "code",
   "execution_count": 1,
   "metadata": {},
   "outputs": [],
   "source": [
    "from pydub import AudioSegment\n",
    "import os\n",
    "import numpy as np"
   ]
  },
  {
   "cell_type": "code",
   "execution_count": null,
   "metadata": {},
   "outputs": [
    {
     "name": "stdout",
     "output_type": "stream",
     "text": [
      "cicada\n",
      "cricket\n",
      "katydid\n"
     ]
    }
   ],
   "source": [
    "workingDir = os.getcwd()\n",
    "for insect in [\"cicada\",\"cricket\",\"katydid\"]:\n",
    "    print(insect)\n",
    "    for file in os.listdir(os.path.join(workingDir,\"InsectData\",insect)):\n",
    "        if(not os.path.isdir(os.path.join(workingDir,\"InsectData\",insect,file))):\n",
    "            sound = AudioSegment.from_file(os.path.join(workingDir,\"InsectData\",insect,file))\n",
    "            numSegments = len(sound)/5000\n",
    "            for i in np.arange(int(numSegments)-1):\n",
    "                segment = sound[i*5000:(i+1)*5000]\n",
    "                segment.export(os.path.join(workingDir,\"InsectData\",insect,\"split\",str(i)+\"_\"+file),format=\"mp3\")"
   ]
  },
  {
   "cell_type": "code",
   "execution_count": null,
   "metadata": {},
   "outputs": [],
   "source": []
  }
 ],
 "metadata": {
  "kernelspec": {
   "display_name": "Python 3",
   "language": "python",
   "name": "python3"
  },
  "language_info": {
   "codemirror_mode": {
    "name": "ipython",
    "version": 3
   },
   "file_extension": ".py",
   "mimetype": "text/x-python",
   "name": "python",
   "nbconvert_exporter": "python",
   "pygments_lexer": "ipython3",
   "version": "3.7.1"
  }
 },
 "nbformat": 4,
 "nbformat_minor": 2
}
